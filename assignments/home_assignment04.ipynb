{
 "cells": [
  {
   "cell_type": "markdown",
   "metadata": {
    "id": "hia1cPPnbt-6"
   },
   "source": [
    "## Exercise 0\n",
    "\n",
    "Write your own simple function with simple documentation and all types of arguments (positional, positional with defaults, arbitrary args, keyword args, arbitrary keyword args)"
   ]
  },
  {
   "cell_type": "code",
   "execution_count": null,
   "metadata": {
    "id": "82YW6fgZbppO"
   },
   "outputs": [],
   "source": [
    "import argparse\n",
    "\n",
    "def my_function(arg1, arg2, *args, kwarg1=None, kwarg2=None, **kwargs):\n",
    "    \"\"\"\n",
    "    This function does nothing, but it has a lot of arguments.\n",
    "    \"\"\"\n",
    "    pass"
   ]
  },
  {
   "cell_type": "markdown",
   "metadata": {
    "id": "HYhlKVnwTYzD"
   },
   "source": [
    "## Exercise 1\n"
   ]
  },
  {
   "cell_type": "code",
   "execution_count": 3,
   "metadata": {
    "id": "gv_TvLaHTXh8"
   },
   "outputs": [
    {
     "name": "stdout",
     "output_type": "stream",
     "text": [
      "False\n"
     ]
    }
   ],
   "source": [
    "def is_prime(n):\n",
    "    \"\"\"\n",
    "    Check if the number is prime or not.\n",
    "    \"\"\"\n",
    "    import math \n",
    "    if n < 2:\n",
    "        return False\n",
    "    for i in range(2, int(math.sqrt(n)) + 1):\n",
    "        if n % i == 0:\n",
    "            return False\n",
    "    return True\n",
    "\n",
    "print(is_prime(4))\n"
   ]
  },
  {
   "cell_type": "markdown",
   "metadata": {
    "id": "1FXsMX-RKOBG"
   },
   "source": [
    "## Exercise 2\n",
    "\n",
    "[Inspect](https://docs.python.org/3.7/library/inspect.html) will help you. Use `my_function` for tests.\n",
    "\n"
   ]
  },
  {
   "cell_type": "code",
   "execution_count": 5,
   "metadata": {
    "id": "g68Y9DfNQcYD"
   },
   "outputs": [
    {
     "name": "stdout",
     "output_type": "stream",
     "text": [
      "Name of the function:  is_prime\n",
      "Name of the arguments:  FullArgSpec(args=['n'], varargs=None, varkw=None, defaults=None, kwonlyargs=[], kwonlydefaults=None, annotations={})\n",
      "Type of the arguments:  {}\n"
     ]
    }
   ],
   "source": [
    "import inspect\n",
    "\n",
    "def inspect_function(func):\n",
    "    \"\"\"\n",
    "    Takes another function as an argument (but not built-in) \n",
    "    and print the following data: \n",
    "    the name of the analyzed function, \n",
    "    the name of all the arguments it takes \n",
    "    and their types (positional, keyword, etc.)\n",
    "    \"\"\"\n",
    "    print(\"Name of the function: \", func.__name__)\n",
    "    print(\"Name of the arguments: \", inspect.getfullargspec(func))\n",
    "    print(\"Type of the arguments: \", inspect.getfullargspec(func).annotations)\n",
    "\n",
    "inspect_function(is_prime)"
   ]
  },
  {
   "cell_type": "markdown",
   "metadata": {
    "id": "oRaKEc0ZIgNs"
   },
   "source": [
    "## Exercise 3"
   ]
  },
  {
   "cell_type": "markdown",
   "metadata": {
    "id": "xmdOYiCrGpUd"
   },
   "source": [
    "The `my_time_now` function is not working correctly. Correct it so that it displays the current time with a message. "
   ]
  },
  {
   "cell_type": "code",
   "execution_count": 7,
   "metadata": {
    "id": "645BoTXIGnHr"
   },
   "outputs": [
    {
     "name": "stdout",
     "output_type": "stream",
     "text": [
      "Hello 2022-10-07 21:55:24.548737\n"
     ]
    }
   ],
   "source": [
    "from datetime import datetime\n",
    "from time import sleep\n",
    " \n",
    "# wrong function\n",
    "def my_time_now(msg, *, dt=datetime.now()):\n",
    "    print(msg, dt)\n",
    "\n",
    "# correct function\n",
    "def my_time_now(msg, *, dt=None):\n",
    "    dt = dt or datetime.now()\n",
    "    print(msg, dt)\n",
    "\n",
    "my_time_now(\"Hello\")\n",
    "sleep(1)\n"
   ]
  },
  {
   "cell_type": "code",
   "execution_count": 8,
   "metadata": {
    "id": "3NeyF9UJHeyd"
   },
   "outputs": [
    {
     "name": "stdout",
     "output_type": "stream",
     "text": [
      "The time is now:  2022-10-07 21:59:17.953256\n",
      "The time is now:  2022-10-07 21:59:18.956814\n",
      "The time is now:  2022-10-07 21:59:19.970214\n"
     ]
    }
   ],
   "source": [
    "# simple tests :)\n",
    "my_time_now('The time is now: ')\n",
    "sleep(1)\n",
    "my_time_now('The time is now: ')\n",
    "sleep(1)\n",
    "my_time_now('The time is now: ')"
   ]
  },
  {
   "cell_type": "markdown",
   "metadata": {
    "id": "Qap8_Jb2ENra"
   },
   "source": [
    "## Exercise 4"
   ]
  },
  {
   "cell_type": "code",
   "execution_count": 15,
   "metadata": {
    "id": "JBwZGo84EMW1"
   },
   "outputs": [
    {
     "name": "stdout",
     "output_type": "stream",
     "text": [
      "<generator object limit at 0x000001D02AD93DF0>\n"
     ]
    }
   ],
   "source": [
    "def limit(input_generator, max_count):\n",
    "    \"\"\"\n",
    "    Generator that returns not more than max_count values of the input_generator.\n",
    "    \"\"\"\n",
    "    for i in range(max_count):\n",
    "        yield next(input_generator)\n"
   ]
  },
  {
   "cell_type": "markdown",
   "metadata": {
    "id": "BvwCKaOxRQ3N"
   },
   "source": [
    "## Exercise 5\n",
    "\n",
    "Write a generator for an infinite sequence of numbers from the Pascal's triangle. The sequence look like this:\n",
    "`1 1 1 1 2 1 1 3 3 1 1 4 6 4 1 1 5 10 10 5 1 1 6 15 20 15 6 1 1 7 21 35 35 21 7 1 1 8 28 56 70 56 28 8 1 1 9 36 84 126 126 84 36 9 1 ... '\n",
    "\n",
    "Test it with a generator from the previous task)"
   ]
  },
  {
   "cell_type": "code",
   "execution_count": 17,
   "metadata": {
    "id": "EBNNXBUYUqKJ"
   },
   "outputs": [
    {
     "name": "stdout",
     "output_type": "stream",
     "text": [
      "[1]\n",
      "[1, 1]\n",
      "[1, 2, 1]\n",
      "[1, 3, 3, 1]\n",
      "[1, 4, 6, 4, 1]\n",
      "[1, 5, 10, 10, 5, 1]\n",
      "[1, 6, 15, 20, 15, 6, 1]\n",
      "[1, 7, 21, 35, 35, 21, 7, 1]\n",
      "[1, 8, 28, 56, 70, 56, 28, 8, 1]\n",
      "[1, 9, 36, 84, 126, 126, 84, 36, 9, 1]\n"
     ]
    }
   ],
   "source": [
    "# your code here\n",
    "def my_range():\n",
    "    \"\"\"\n",
    "    Generator for an infinite sequence of numbers from the Pascal's triangle.\n",
    "    \"\"\"\n",
    "    row = [1]\n",
    "    while True:\n",
    "        yield row\n",
    "        row = [1] + [row[i] + row[i + 1] for i in range(len(row) - 1)] + [1]\n",
    "\n",
    "def test_pascal_triangle():\n",
    "    \"\"\"\n",
    "    Test for pascal_triangle generator.\n",
    "    \"\"\"\n",
    "    gen = my_range()\n",
    "    for i in range(10):\n",
    "        print(next(gen))\n",
    "\n",
    "test_pascal_triangle()"
   ]
  },
  {
   "cell_type": "markdown",
   "metadata": {
    "id": "vUiY14pIEiNC"
   },
   "source": [
    "## Exercise 6\n"
   ]
  },
  {
   "cell_type": "code",
   "execution_count": 31,
   "metadata": {
    "id": "eGLSDqNHGFYn"
   },
   "outputs": [
    {
     "name": "stdout",
     "output_type": "stream",
     "text": [
      "['final', 'home_assignment04.ipynb', 'home_assignment01.ipynb', 'home_assignment02.ipynb', 'home_assignment03.ipynb']\n"
     ]
    }
   ],
   "source": [
    "import os  # can change to os module if you want\n",
    "import sys\n",
    "\n",
    "def files_sorted_by_size(path_to_dir):\n",
    "    \"\"\"\n",
    "    Return a list of files in path_to_dir sorted by size.\n",
    "    The same size files sorted alphabetically\n",
    "    \"\"\"\n",
    "    return sorted(os.listdir(path_to_dir), key=lambda x: (os.path.getsize(x), x))\n",
    "\n",
    "print(files_sorted_by_size(\"./\"))"
   ]
  },
  {
   "cell_type": "markdown",
   "metadata": {
    "id": "43eeoixHSa9Y"
   },
   "source": [
    "## Exercise 7\n",
    "\n",
    "Write a `merge_sorter` generator that merges sorted sequences of integers.\n",
    "\n",
    "The generator takes an arbitrary number of arguments. The argument can be any iterable, including another generator. It is guaranteed that each argument is a sequence of integers, sorted in non-decreasing order."
   ]
  },
  {
   "cell_type": "code",
   "execution_count": 26,
   "metadata": {
    "id": "VHmnqHVaScox"
   },
   "outputs": [
    {
     "name": "stdout",
     "output_type": "stream",
     "text": [
      "[0, 1, 2, 3, 3, 4, 5, 6, 7, 8, 8, 9, 13, 18, 23, 28, 33, 38, 43, 48]\n",
      "[1, 1, 2, 2, 2, 3, 3, 3, 4, 4, 5]\n"
     ]
    }
   ],
   "source": [
    "\"\"\"\n",
    "Write a `merge_sorter` generator that merges sorted sequences of integers.\n",
    "\n",
    "The generator takes an arbitrary number of arguments. The argument can be any iterable, including another generator. It is guaranteed that each argument is a sequence of integers, sorted in non-decreasing order.\n",
    "\"\"\"\n",
    "def merge_sorter(*args):\n",
    "    \"\"\"\n",
    "    Merge sorted sequences of integers.\n",
    "    \"\"\"\n",
    "    # your code here\n",
    "    from itertools import chain\n",
    "    yield from sorted(chain(*args))\n",
    "\n",
    "a = (i for i in range(10))\n",
    "b = (i for i in range(3, 50, 5))\n",
    "print(list(merge_sorter(a, b)))\n",
    "print(list(merge_sorter([1, 2, 3], [2, 3, 4], [1, 2, 3, 4, 5])))\n"
   ]
  },
  {
   "cell_type": "markdown",
   "metadata": {
    "id": "7AF_IQRQVQ-k"
   },
   "source": [
    "## Exercise 8\n",
    "\n",
    "Write the decorator `proﬁler`, which, when calling a function, will store in its attributes (not to be confused with arguments) the time of its execution (in seconds, it can be fractional) and the number of recursive calls that occurred during execution. Name the attributes `last_time_taken` and `calls`.\n",
    "It is forbidden to use global variables.\n",
    "The decorator must behave in a decent manner, that is, it must not overwrite the function's documentation.\n",
    "\n",
    "For tests write [Ackermann function](https://en.wikipedia.org/wiki/Ackermann_function)"
   ]
  },
  {
   "cell_type": "code",
   "execution_count": 45,
   "metadata": {
    "id": "WyJ02jbTVQiu"
   },
   "outputs": [
    {
     "name": "stdout",
     "output_type": "stream",
     "text": [
      "Function ackermann was called 1 times. Last time it took 1.0104894638061523 seconds to complete.\n",
      "Function ackermann was called 2 times. Last time it took 1.013312816619873 seconds to complete.\n",
      "Function ackermann was called 3 times. Last time it took 3.036881685256958 seconds to complete.\n",
      "Function ackermann was called 4 times. Last time it took 1.0096209049224854 seconds to complete.\n",
      "Function ackermann was called 5 times. Last time it took 5.050598859786987 seconds to complete.\n",
      "5 \n",
      "    The Ackermann function.\n",
      "    \n"
     ]
    }
   ],
   "source": [
    "import time \n",
    "from functools import wraps\n",
    "from time import sleep\n",
    "\n",
    "def profiler(func):\n",
    "    \"\"\"\n",
    "    Decorator that prints the execution time and calls of the function.\n",
    "    \"\"\"\n",
    "    last_time_taken = 0\n",
    "    calls = 0\n",
    "    @wraps(func)\n",
    "    def wrapper(*args, **kwargs):\n",
    "        nonlocal last_time_taken, calls\n",
    "        start = time.time()\n",
    "        result = func(*args, **kwargs)\n",
    "        end = time.time()\n",
    "        last_time_taken = end - start\n",
    "        calls += 1\n",
    "        #only print after function is ended\n",
    "        print(f\"Function {func.__name__} was called {calls} times. Last time it took {last_time_taken} seconds to complete.\")\n",
    "        return result\n",
    "    return wrapper\n",
    "\n",
    "@profiler\n",
    "def ackermann(n):\n",
    "    \"\"\"\n",
    "    The Ackermann function.\n",
    "    \"\"\"\n",
    "    sleep(1)\n",
    "    if n == 0:\n",
    "        return 1\n",
    "    elif n == 1:\n",
    "        return 2\n",
    "    else:\n",
    "        return ackermann(n - 1) + ackermann(n - 2)\n",
    "\n",
    "print(ackermann(3), ackermann.__doc__)"
   ]
  },
  {
   "cell_type": "markdown",
   "metadata": {
    "id": "QcjAealUfs2Q"
   },
   "source": [
    "## Exercise 9\n",
    "\n",
    "Write the function `encode` that implements [run-length encoding](https://en.wikipedia.org/wiki/Run-length_encoding) algorithm"
   ]
  },
  {
   "cell_type": "code",
   "execution_count": 23,
   "metadata": {
    "id": "tBhwbMm9fsMv"
   },
   "outputs": [
    {
     "name": "stdout",
     "output_type": "stream",
     "text": [
      "A4B3C2X1Y1Z1D4E3F3A6B28\n"
     ]
    }
   ],
   "source": [
    "def encode(sequence):\n",
    "    # your code here\n",
    "    sequence = list(sequence)\n",
    "    result = []\n",
    "    while sequence:\n",
    "        current = sequence.pop(0)\n",
    "        count = 1\n",
    "        while sequence and sequence[0] == current:\n",
    "            count += 1\n",
    "            sequence.pop(0)\n",
    "        result.append((current, count))\n",
    "    return result\n",
    "\n",
    "print(''.join(f'{c}{n}' for c, n in encode('AAAABBBCCXYZDDDDEEEFFFAAAAAABBBBBBBBBBBBBBBBBBBBBBBBBBBB')))"
   ]
  }
 ],
 "metadata": {
  "colab": {
   "collapsed_sections": [],
   "name": "home-assignment04",
   "provenance": []
  },
  "kernelspec": {
   "display_name": "Python 3.10.6 64-bit",
   "language": "python",
   "name": "python3"
  },
  "language_info": {
   "codemirror_mode": {
    "name": "ipython",
    "version": 3
   },
   "file_extension": ".py",
   "mimetype": "text/x-python",
   "name": "python",
   "nbconvert_exporter": "python",
   "pygments_lexer": "ipython3",
   "version": "3.10.6"
  },
  "vscode": {
   "interpreter": {
    "hash": "369f2c481f4da34e4445cda3fffd2e751bd1c4d706f27375911949ba6bb62e1c"
   }
  }
 },
 "nbformat": 4,
 "nbformat_minor": 1
}
