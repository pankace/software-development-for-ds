{
 "cells": [
  {
   "cell_type": "markdown",
   "metadata": {
    "id": "hia1cPPnbt-6"
   },
   "source": [
    "## Exercise 0\n",
    "\n",
    "Write your own simple function with simple documentation and all types of arguments (positional, positional with defaults, arbitrary args, keyword args, arbitrary keyword args)"
   ]
  },
  {
   "cell_type": "code",
   "execution_count": null,
   "metadata": {
    "id": "82YW6fgZbppO"
   },
   "outputs": [],
   "source": [
    "import argparse\n",
    "\n",
    "def my_function(arg1, arg2, *args, kwarg1=None, kwarg2=None, **kwargs):\n",
    "    \"\"\"\n",
    "    This function does nothing, but it has a lot of arguments.\n",
    "    \"\"\"\n",
    "    pass"
   ]
  },
  {
   "cell_type": "markdown",
   "metadata": {
    "id": "HYhlKVnwTYzD"
   },
   "source": [
    "## Exercise 1\n"
   ]
  },
  {
   "cell_type": "code",
   "execution_count": 3,
   "metadata": {
    "id": "gv_TvLaHTXh8"
   },
   "outputs": [
    {
     "name": "stdout",
     "output_type": "stream",
     "text": [
      "False\n"
     ]
    }
   ],
   "source": [
    "def is_prime(n):\n",
    "    \"\"\"\n",
    "    Check if the number is prime or not.\n",
    "    \"\"\"\n",
    "    import math \n",
    "    if n < 2:\n",
    "        return False\n",
    "    for i in range(2, int(math.sqrt(n)) + 1):\n",
    "        if n % i == 0:\n",
    "            return False\n",
    "    return True\n",
    "\n",
    "print(is_prime(4))"
   ]
  },
  {
   "cell_type": "markdown",
   "metadata": {
    "id": "1FXsMX-RKOBG"
   },
   "source": [
    "## Exercise 2\n",
    "\n",
    "[Inspect](https://docs.python.org/3.7/library/inspect.html) will help you. Use `my_function` for tests.\n",
    "\n"
   ]
  },
  {
   "cell_type": "code",
   "execution_count": 5,
   "metadata": {
    "id": "g68Y9DfNQcYD"
   },
   "outputs": [
    {
     "name": "stdout",
     "output_type": "stream",
     "text": [
      "Name of the function:  is_prime\n",
      "Name of the arguments:  FullArgSpec(args=['n'], varargs=None, varkw=None, defaults=None, kwonlyargs=[], kwonlydefaults=None, annotations={})\n",
      "Type of the arguments:  {}\n"
     ]
    }
   ],
   "source": [
    "import inspect\n",
    "\n",
    "def inspect_function(func):\n",
    "    \"\"\"\n",
    "    Takes another function as an argument (but not built-in) \n",
    "    and print the following data: \n",
    "    the name of the analyzed function, \n",
    "    the name of all the arguments it takes \n",
    "    and their types (positional, keyword, etc.)\n",
    "    \"\"\"\n",
    "    print(\"Name of the function: \", func.__name__)\n",
    "    print(\"Name of the arguments: \", inspect.getfullargspec(func))\n",
    "    print(\"Type of the arguments: \", inspect.getfullargspec(func).annotations)\n",
    "\n",
    "inspect_function(is_prime)"
   ]
  },
  {
   "cell_type": "markdown",
   "metadata": {
    "id": "oRaKEc0ZIgNs"
   },
   "source": [
    "## Exercise 3"
   ]
  },
  {
   "cell_type": "markdown",
   "metadata": {
    "id": "xmdOYiCrGpUd"
   },
   "source": [
    "The `my_time_now` function is not working correctly. Correct it so that it displays the current time with a message. "
   ]
  },
  {
   "cell_type": "code",
   "execution_count": 7,
   "metadata": {
    "id": "645BoTXIGnHr"
   },
   "outputs": [
    {
     "name": "stdout",
     "output_type": "stream",
     "text": [
      "Hello 2022-10-07 21:55:24.548737\n"
     ]
    }
   ],
   "source": [
    "from datetime import datetime\n",
    "from time import sleep\n",
    " \n",
    "# wrong function\n",
    "def my_time_now(msg, *, dt=datetime.now()):\n",
    "    print(msg, dt)\n",
    "\n",
    "# correct function\n",
    "def my_time_now(msg, *, dt=None):\n",
    "    dt = dt or datetime.now()\n",
    "    print(msg, dt)\n",
    "\n",
    "my_time_now(\"Hello\")\n",
    "sleep(1)\n"
   ]
  },
  {
   "cell_type": "code",
   "execution_count": 8,
   "metadata": {
    "id": "3NeyF9UJHeyd"
   },
   "outputs": [
    {
     "name": "stdout",
     "output_type": "stream",
     "text": [
      "The time is now:  2022-10-07 21:59:17.953256\n",
      "The time is now:  2022-10-07 21:59:18.956814\n",
      "The time is now:  2022-10-07 21:59:19.970214\n"
     ]
    }
   ],
   "source": [
    "# simple tests :)\n",
    "my_time_now('The time is now: ')\n",
    "sleep(1)\n",
    "my_time_now('The time is now: ')\n",
    "sleep(1)\n",
    "my_time_now('The time is now: ')"
   ]
  },
  {
   "cell_type": "markdown",
   "metadata": {
    "id": "Qap8_Jb2ENra"
   },
   "source": [
    "## Exercise 4"
   ]
  },
  {
   "cell_type": "code",
   "execution_count": 15,
   "metadata": {
    "id": "JBwZGo84EMW1"
   },
   "outputs": [
    {
     "name": "stdout",
     "output_type": "stream",
     "text": [
      "<generator object limit at 0x000001D02AD93DF0>\n"
     ]
    }
   ],
   "source": [
    "def limit(input_generator, max_count):\n",
    "    \"\"\"\n",
    "    Generator that returns not more than max_count values of the input_generator.\n",
    "    \"\"\"\n",
    "    for i in range(max_count):\n",
    "        yield next(input_generator)\n"
   ]
  },
  {
   "cell_type": "markdown",
   "metadata": {
    "id": "BvwCKaOxRQ3N"
   },
   "source": [
    "## Exercise 5\n",
    "\n",
    "Write a generator for an infinite sequence of numbers from the Pascal's triangle. The sequence look like this:\n",
    "`1 1 1 1 2 1 1 3 3 1 1 4 6 4 1 1 5 10 10 5 1 1 6 15 20 15 6 1 1 7 21 35 35 21 7 1 1 8 28 56 70 56 28 8 1 1 9 36 84 126 126 84 36 9 1 ... '\n",
    "\n",
    "Test it with a generator from the previous task)"
   ]
  },
  {
   "cell_type": "code",
   "execution_count": 17,
   "metadata": {
    "id": "EBNNXBUYUqKJ"
   },
   "outputs": [
    {
     "name": "stdout",
     "output_type": "stream",
     "text": [
      "[1]\n",
      "[1, 1]\n",
      "[1, 2, 1]\n",
      "[1, 3, 3, 1]\n",
      "[1, 4, 6, 4, 1]\n",
      "[1, 5, 10, 10, 5, 1]\n",
      "[1, 6, 15, 20, 15, 6, 1]\n",
      "[1, 7, 21, 35, 35, 21, 7, 1]\n",
      "[1, 8, 28, 56, 70, 56, 28, 8, 1]\n",
      "[1, 9, 36, 84, 126, 126, 84, 36, 9, 1]\n"
     ]
    }
   ],
   "source": [
    "# your code here\n",
    "def my_range():\n",
    "    \"\"\"\n",
    "    Generator for an infinite sequence of numbers from the Pascal's triangle.\n",
    "    \"\"\"\n",
    "    row = [1]\n",
    "    while True:\n",
    "        yield row\n",
    "        row = [1] + [row[i] + row[i + 1] for i in range(len(row) - 1)] + [1]\n",
    "\n",
    "def test_pascal_triangle():\n",
    "    \"\"\"\n",
    "    Test for pascal_triangle generator.\n",
    "    \"\"\"\n",
    "    gen = my_range()\n",
    "    for i in range(10):\n",
    "        print(next(gen))\n",
    "\n",
    "test_pascal_triangle()"
   ]
  },
  {
   "cell_type": "markdown",
   "metadata": {
    "id": "vUiY14pIEiNC"
   },
   "source": [
    "## Exercise 6\n"
   ]
  },
  {
   "cell_type": "code",
   "execution_count": 26,
   "metadata": {
    "id": "eGLSDqNHGFYn"
   },
   "outputs": [
    {
     "name": "stdout",
     "output_type": "stream",
     "text": [
      "[WindowsPath('../session06'), WindowsPath('../session07'), WindowsPath('../session08'), WindowsPath('../session10'), WindowsPath('../session11'), WindowsPath('../session12'), WindowsPath('../session14'), WindowsPath('../sessions04-05'), WindowsPath('../README.md'), WindowsPath('../.gitignore'), WindowsPath('../.git'), WindowsPath('../assignments'), WindowsPath('../session09'), WindowsPath('../session13')]\n"
     ]
    }
   ],
   "source": [
    "import pathlib  # can change to os module if you want\n",
    "import sys\n",
    "\n",
    "def files_sorted_by_size(path_to_dir):\n",
    "    \"\"\"\n",
    "    Return a list of files in path_to_dir sorted by size.\n",
    "    The same size files sorted alphabetically\n",
    "    \"\"\"\n",
    "    # your code here\n",
    "    path = pathlib.Path(path_to_dir)\n",
    "    files = path.glob(\"*\")\n",
    "    return sorted(files, key=lambda x: (x.stat().st_size, x.name))\n",
    "\n",
    "print(files_sorted_by_size(\"..//\"))\n"
   ]
  },
  {
   "cell_type": "markdown",
   "metadata": {
    "id": "43eeoixHSa9Y"
   },
   "source": [
    "## Exercise 7\n",
    "\n",
    "Write a `merge_sorter` generator that merges sorted sequences of integers.\n",
    "\n",
    "The generator takes an arbitrary number of arguments. The argument can be any iterable, including another generator. It is guaranteed that each argument is a sequence of integers, sorted in non-decreasing order."
   ]
  },
  {
   "cell_type": "code",
   "execution_count": 2,
   "metadata": {
    "id": "VHmnqHVaScox"
   },
   "outputs": [],
   "source": [
    "def merge_sorter(*args):\n",
    "    # your code here\n",
    "    raise NotImplementedError"
   ]
  },
  {
   "cell_type": "markdown",
   "metadata": {
    "id": "7AF_IQRQVQ-k"
   },
   "source": [
    "## Exercise 8\n",
    "\n",
    "Write the decorator `proﬁler`, which, when calling a function, will store in its attributes (not to be confused with arguments) the time of its execution (in seconds, it can be fractional) and the number of recursive calls that occurred during execution. Name the attributes `last_time_taken` and `calls`.\n",
    "It is forbidden to use global variables.\n",
    "The decorator must behave in a decent manner, that is, it must not overwrite the function's documentation.\n",
    "\n",
    "For tests write [Ackermann function](https://en.wikipedia.org/wiki/Ackermann_function)"
   ]
  },
  {
   "cell_type": "code",
   "execution_count": null,
   "metadata": {
    "id": "WyJ02jbTVQiu"
   },
   "outputs": [],
   "source": [
    "def profiler():\n",
    "    # your code here\n",
    "    raise NotImplementedError\n",
    "\n",
    "def ackermann(n, m):\n",
    "    # your code here\n",
    "    raise NotImplementedError"
   ]
  },
  {
   "cell_type": "markdown",
   "metadata": {
    "id": "QcjAealUfs2Q"
   },
   "source": [
    "## Exercise 9\n",
    "\n",
    "Write the function `encode` that implements [run-length encoding](https://en.wikipedia.org/wiki/Run-length_encoding) algorithm"
   ]
  },
  {
   "cell_type": "code",
   "execution_count": null,
   "metadata": {
    "id": "tBhwbMm9fsMv"
   },
   "outputs": [],
   "source": [
    "def encode(sequence):\n",
    "    # your code here\n",
    "    raise NotImplementedError"
   ]
  }
 ],
 "metadata": {
  "colab": {
   "collapsed_sections": [],
   "name": "home-assignment04",
   "provenance": []
  },
  "kernelspec": {
   "display_name": "Python 3.10.6 64-bit",
   "language": "python",
   "name": "python3"
  },
  "language_info": {
   "codemirror_mode": {
    "name": "ipython",
    "version": 3
   },
   "file_extension": ".py",
   "mimetype": "text/x-python",
   "name": "python",
   "nbconvert_exporter": "python",
   "pygments_lexer": "ipython3",
   "version": "3.10.6"
  },
  "vscode": {
   "interpreter": {
    "hash": "369f2c481f4da34e4445cda3fffd2e751bd1c4d706f27375911949ba6bb62e1c"
   }
  }
 },
 "nbformat": 4,
 "nbformat_minor": 1
}
